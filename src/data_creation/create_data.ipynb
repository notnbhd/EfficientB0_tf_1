{
 "cells": [
  {
   "cell_type": "code",
   "execution_count": 1,
   "id": "29232d87",
   "metadata": {},
   "outputs": [],
   "source": [
    "import torch\n",
    "import torchvision\n",
    "import os\n",
    "\n",
    "from torchvision import transforms, datasets\n",
    "\n",
    "import pathlib"
   ]
  },
  {
   "cell_type": "code",
   "execution_count": 3,
   "id": "6468d570",
   "metadata": {},
   "outputs": [],
   "source": [
    "data_dir = pathlib.Path('../data')\n",
    "data_root = pathlib.Path('../data_root')"
   ]
  },
  {
   "cell_type": "code",
   "execution_count": 3,
   "id": "778cddff",
   "metadata": {},
   "outputs": [
    {
     "name": "stderr",
     "output_type": "stream",
     "text": [
      "100%|██████████| 5.00G/5.00G [17:12<00:00, 4.84MB/s]   \n"
     ]
    }
   ],
   "source": [
    "train_data = datasets.Food101(\n",
    "    root = data_root,\n",
    "    split = 'train',\n",
    "    download = True\n",
    ")\n",
    "\n",
    "test_data = datasets.Food101(\n",
    "    root = data_root,\n",
    "    split = 'test',\n",
    "    download = True\n",
    ")"
   ]
  },
  {
   "cell_type": "code",
   "execution_count": null,
   "id": "4aa4a79a",
   "metadata": {},
   "outputs": [],
   "source": [
    "data_path = data_root / 'food-101/images'\n",
    "target_classes = ['pho', 'ramen', 'spaghetti_carbonara']\n",
    "\n",
    "def get_subset(image_path=data_path, \n",
    "               data_splits=['train', 'test'],    \n",
    "               target_classes=target_classes,\n",
    "               ):\n",
    "    label_splits = {}\n",
    "\n",
    "    for data_split in data_splits:\n",
    "        label_path = data_root / 'food-101' / 'meta' / f'{data_split}.txt'\n",
    "        with open(label_path, 'r') as f:\n",
    "            labels = [line.strip('\\n') for line in f.readlines() if line.split('/')[0] in target_classes]\n",
    "        image_paths = [pathlib.Path(str(image_path / label) + '.jpg') for label in labels]\n",
    "        label_splits[data_split] = image_paths\n",
    "\n",
    "    return label_splits\n",
    "\n",
    "label_splits = get_subset()\n",
    "#label_splits['train']"
   ]
  },
  {
   "cell_type": "code",
   "execution_count": 15,
   "id": "49e57e5d",
   "metadata": {},
   "outputs": [],
   "source": [
    "target_dir = pathlib.Path('../data/noodles')\n",
    "target_dir.mkdir(parents=True, exist_ok=True)"
   ]
  },
  {
   "cell_type": "code",
   "execution_count": 16,
   "id": "ecff4b7a",
   "metadata": {},
   "outputs": [],
   "source": [
    "import shutil\n",
    "\n",
    "for image_split in label_splits.keys():\n",
    "    for image_path in label_splits[str(image_split)]:\n",
    "        destination = target_dir / image_split / image_path.parent.stem / image_path.name\n",
    "        if not destination.parent.is_dir():\n",
    "            destination.parent.mkdir(parents=True, exist_ok=True)\n",
    "        shutil.copy(image_path, destination)\n",
    "        #print(image_path, destination)"
   ]
  },
  {
   "cell_type": "code",
   "execution_count": null,
   "id": "016973af",
   "metadata": {},
   "outputs": [],
   "source": [
    "#remove data_root\n",
    "\n",
    "shutil.rmtree(data_root)"
   ]
  }
 ],
 "metadata": {
  "kernelspec": {
   "display_name": "Python 3",
   "language": "python",
   "name": "python3"
  },
  "language_info": {
   "codemirror_mode": {
    "name": "ipython",
    "version": 3
   },
   "file_extension": ".py",
   "mimetype": "text/x-python",
   "name": "python",
   "nbconvert_exporter": "python",
   "pygments_lexer": "ipython3",
   "version": "3.12.7"
  }
 },
 "nbformat": 4,
 "nbformat_minor": 5
}
